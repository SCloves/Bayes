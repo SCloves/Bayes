{
 "cells": [
  {
   "cell_type": "markdown",
   "metadata": {},
   "source": [
    "<img src='salmao.jpg'>\n",
    "\n",
    "[Vídeo](https://www.youtube.com/watch?v=3OJEae7Qb_o)\n",
    "\n",
    "A Swedish Fish Incorporated é a maior empresa sueca que fornece peixe por correspondência. Eles estão agora tentando entrar no lucrativo mercado dinamarquês vendendo assinaturas de um ano de salmão. O departamento de marketing fez um estudo piloto e tentou o seguinte método de marketing:\n",
    "\n",
    "R: Enviando um e-mail com um folheto colorido que convida as pessoas a se inscreverem para uma assinatura de um ano de salmão.\n",
    "\n",
    "O departamento de marketing enviou 16 e-mails de tipo A. Seis dinamarqueses que receberam um e-mail assinado por um ano de salmão e o departamento de marketing quer saber agora o quão bom é o método A.\n",
    "\n",
    "\n",
    "### I) Construa um modelo Bayesiano que responda à pergunta: Qual seria a taxa de inscrição se o método A fosse usado em um número maior de pessoas? ###\n"
   ]
  },
  {
   "cell_type": "code",
   "execution_count": 1,
   "metadata": {
    "collapsed": false
   },
   "outputs": [
    {
     "data": {
      "text/html": [
       "0.375"
      ],
      "text/latex": [
       "0.375"
      ],
      "text/markdown": [
       "0.375"
      ],
      "text/plain": [
       "[1] 0.375"
      ]
     },
     "metadata": {},
     "output_type": "display_data"
    }
   ],
   "source": [
    "# 6 pessoas de 16 se inscreveram para receber o salmão\n",
    "# ou seja\n",
    "\n",
    "p <- 6/16\n",
    "p"
   ]
  },
  {
   "cell_type": "code",
   "execution_count": 2,
   "metadata": {
    "collapsed": true
   },
   "outputs": [],
   "source": [
    "# Podemos admitir, a priori, que esse seja a verdadeira proporção, p = 37,5%,\n",
    "# caso tivéssemos um número bem maior de pessoas que recebessem o e-mail. Mas será mesmo?"
   ]
  },
  {
   "cell_type": "code",
   "execution_count": 3,
   "metadata": {
    "collapsed": true
   },
   "outputs": [],
   "source": [
    "# Uma pessoa aceitar ou não se inscrever são\n",
    "# ensaios de Bernoulli: aceitar = sucesso, rejeitar = fracasso.\n",
    "# Podemos então usar um modelo binomial de parâmetros n = 16\n",
    "# e um p qualquer. Esse p qualquer pode ser gerado por\n",
    "# um outro modelo como a Distribuição Uniforme, que\n",
    "# fornecerá nosso parâmero p a priori. \n",
    "\n",
    "# temos guardado aqui 100 mil valores para p\n",
    "# de uma distribuição uniforme, ou seja, qualquer \n",
    "# valor tem mesma probabilidade de ser escolhido\n",
    "parametros_p <- runif(0, 1, n = 100000 ) "
   ]
  },
  {
   "cell_type": "code",
   "execution_count": 4,
   "metadata": {
    "collapsed": false
   },
   "outputs": [
    {
     "data": {
      "image/png": "[encoded data removed]",
      "text/plain": [
       "Plot with title “Histogram of parametros_p”"
      ]
     },
     "metadata": {},
     "output_type": "display_data"
    }
   ],
   "source": [
    "# sempre bom dar uma olhada no na distribuição dos valores gerados\n",
    "# só pra ter certeza que segue o jeitão da distribuição em \n",
    "# que tiramos uma amostra de 100 mil valores para p\n",
    "# no caso, uma Distribuição Uniforme.\n",
    "\n",
    "options(repr.plot.width=4, repr.plot.height=4)\n",
    "hist(parametros_p) "
   ]
  },
  {
   "cell_type": "code",
   "execution_count": 5,
   "metadata": {
    "collapsed": false
   },
   "outputs": [],
   "source": [
    "# Vamos agora gerar valores\n",
    "# simulados para quantidade de pessoas\n",
    "# que aceitariam se inscrever\n",
    "# com sucesso p e n=16\n",
    "\n",
    "dados_simulados <- rep(NA, 100000)\n",
    "for( i in 1:100000){\n",
    "    p <- parametros_p[i]\n",
    "    dados_simulados[i] = rbinom(n = 1, size = 16, prob = p)\n",
    "}"
   ]
  },
  {
   "cell_type": "code",
   "execution_count": 6,
   "metadata": {
    "collapsed": false
   },
   "outputs": [],
   "source": [
    "# vamos filtrar para pegar só aqueles parâmetros\n",
    "# que corraborem com o que vimos, ou seja,\n",
    "# que tenha gerado 6 \"pessoas inscritas\". \n",
    "posteriori <- parametros_p[dados_simulados == 6]"
   ]
  },
  {
   "cell_type": "code",
   "execution_count": 7,
   "metadata": {
    "collapsed": false
   },
   "outputs": [
    {
     "data": {
      "text/html": [
       "5905"
      ],
      "text/latex": [
       "5905"
      ],
      "text/markdown": [
       "5905"
      ],
      "text/plain": [
       "[1] 5905"
      ]
     },
     "metadata": {},
     "output_type": "display_data"
    }
   ],
   "source": [
    "# essa é a quantidade de parâmetros \n",
    "# que forneceu o valor 6\n",
    "length(posteriori)"
   ]
  },
  {
   "cell_type": "code",
   "execution_count": 8,
   "metadata": {
    "collapsed": false
   },
   "outputs": [
    {
     "data": {
      "image/png": "[encoded data removed]",
      "text/plain": [
       "Plot with title “Proporções a Posteriori”"
      ]
     },
     "metadata": {},
     "output_type": "display_data"
    }
   ],
   "source": [
    "# vamos dar uma olhada na cara na distribuição dos \n",
    "# parâmetros a posteriori \n",
    "hist(posteriori, main = 'Proporções a Posteriori', \n",
    "     xlab = 'Proporção a posteriori',\n",
    "     ylab = 'Frequência', \n",
    "     breaks = 10,\n",
    "     col = 'blue'\n",
    "    )"
   ]
  },
  {
   "cell_type": "code",
   "execution_count": 9,
   "metadata": {
    "collapsed": true
   },
   "outputs": [],
   "source": [
    "# É mais provável que a proporção de \n",
    "# pessoas se inscrevam esteja entre 0.3 e 0.4"
   ]
  },
  {
   "cell_type": "markdown",
   "metadata": {
    "collapsed": true
   },
   "source": [
    "## Questão II) Qual é a probabilidade do método A ser melhor que o telemarketing?\n",
    "\n",
    "Então, o marketing nos disse que a taxa de inscrição seria de 20% se os assinantes de salmão fossem incomadados por uma campanha de telemarketing (para nós, não é claro onde o marketing obteve esse número muito preciso). Assim, dado o modelo e os dados que desenvolvemos na última pergunta, qual a probabilidade de o método A ter uma taxa de inscrição mais elevada do que o telemarketing?"
   ]
  },
  {
   "cell_type": "code",
   "execution_count": 11,
   "metadata": {
    "collapsed": false
   },
   "outputs": [
    {
     "data": {
      "text/html": [
       "0.963759525825572"
      ],
      "text/latex": [
       "0.963759525825572"
      ],
      "text/markdown": [
       "0.963759525825572"
      ],
      "text/plain": [
       "[1] 0.9637595"
      ]
     },
     "metadata": {},
     "output_type": "display_data"
    }
   ],
   "source": [
    "sum(posteriori > 0.2)/length(posteriori)"
   ]
  },
  {
   "cell_type": "code",
   "execution_count": 12,
   "metadata": {
    "collapsed": true
   },
   "outputs": [],
   "source": [
    "# Portanto, estimamos que a probabilidade da campanha A ser melhor que a campanha por telemarketing\n",
    "# é de aproximadamente 96%."
   ]
  },
  {
   "cell_type": "markdown",
   "metadata": {},
   "source": [
    "## Questão III) Se o método A foi usado para 100 pessoas, qual seria o número esperado de assinaturas?"
   ]
  },
  {
   "cell_type": "code",
   "execution_count": 14,
   "metadata": {
    "collapsed": false
   },
   "outputs": [
    {
     "data": {
      "image/png": "[encoded data removed]",
      "text/plain": [
       "Plot with title “Histogram of signups”"
      ]
     },
     "metadata": {},
     "output_type": "display_data"
    }
   ],
   "source": [
    "# This can be done with a for loop\n",
    "singnups <- rep(NA, length(posteriori))\n",
    "for(i in 1:length(posteriori)) {\n",
    "  singnups[i] <- rbinom(n = 1, size = 100, prob = posteriori[i])\n",
    "}\n",
    "\n",
    "# But since rbinom is vectorized we can simply write it like this:\n",
    "signups <- rbinom(n = length(posteriori), size = 100, prob = posteriori)\n",
    "\n",
    "hist(signups, xlim = c(0, 100))"
   ]
  },
  {
   "cell_type": "code",
   "execution_count": null,
   "metadata": {
    "collapsed": true
   },
   "outputs": [],
   "source": []
  }
 ],
 "metadata": {
  "anaconda-cloud": {},
  "kernelspec": {
   "display_name": "R 3.2",
   "language": "R",
   "name": "ir32"
  },
  "language_info": {
   "codemirror_mode": "r",
   "file_extension": ".r",
   "mimetype": "text/x-r-source",
   "name": "R",
   "pygments_lexer": "r",
   "version": "3.4.0"
  }
 },
 "nbformat": 4,
 "nbformat_minor": 2
}
